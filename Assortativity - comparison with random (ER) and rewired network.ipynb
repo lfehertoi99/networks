{
 "cells": [
  {
   "cell_type": "code",
   "execution_count": 3,
   "metadata": {},
   "outputs": [],
   "source": [
    "import networkx as nx\n",
    "import numpy as np\n",
    "import matplotlib.pyplot as plt\n",
    "import collections"
   ]
  },
  {
   "cell_type": "code",
   "execution_count": 4,
   "metadata": {},
   "outputs": [],
   "source": [
    "#TOIVONEN MODEL SOCIAL NETWORK\n",
    "def newSocialNetwork(m0,mr,ms,Nmax,p):\n",
    "    \n",
    "    G = nx.erdos_renyi_graph(m0,p)\n",
    "    N=m0\n",
    "    #start with random network\n",
    "    for i in range (Nmax-m0): #grow to desired size\n",
    "        G.add_node(m0+i) \n",
    "        for node in G.nodes():\n",
    "            x=np.random.rand()\n",
    "            if x<=(mr/N): #probability of selecting a node as an initial contact\n",
    "                G.add_edge(node,m0+i)\n",
    "                for neighbor in G.neighbors(node): #probability of selecting the neighbour of an initial contact as a secondary contact\n",
    "                    y=np.random.rand()\n",
    "                    if y<=(ms/N):\n",
    "                        G.add_edge(neighbor,m0+i)\n",
    "        N=G.number_of_nodes()\n",
    "        \n",
    "        attr=dict()\n",
    "        for node in G.nodes():\n",
    "            nodeDict=dict()\n",
    "            nodeDict[\"coop\"]=float('%.0f' %np.random.rand())\n",
    "            attr[node]=nodeDict\n",
    "        \n",
    "        nx.set_node_attributes(G, attr)\n",
    "        \n",
    "        attrEdge=dict()\n",
    "        for edge in G.edges():\n",
    "            edgeDict=dict()\n",
    "            edgeDict[\"weight\"]=float('%.3f' %np.random.rand()) #random sulyozas -> de ezt kesobb lehetne varialni...\n",
    "            attrEdge[edge]=edgeDict\n",
    "            \n",
    "        nx.set_edge_attributes(G, attrEdge)\n",
    "        \n",
    "    return(G)"
   ]
  },
  {
   "cell_type": "code",
   "execution_count": 49,
   "metadata": {},
   "outputs": [],
   "source": [
    "def randomize(G,f): #HOW ASSORTATIVE IS THE NETWORK? Using the randomized (rewired) version as a benchmark for comparison.\n",
    "    \n",
    "    N=nx.number_of_nodes(G)\n",
    "    for i in range(int(f*N)): #f is the extent of rewiring\n",
    "        nodes=np.random.choice(G.nodes(),2,replace=False) #choose two nodes randomly\n",
    "        if list(G.neighbors(nodes[0])) != [] and list(G.neighbors(nodes[1])) != []: #chosen nodes must have neighbours\n",
    "            neighbor1=int(np.random.choice(list(G.neighbors(nodes[0]))))\n",
    "            neighbor2=int(np.random.choice(list(G.neighbors(nodes[1]))))\n",
    "            if neighbor1 not in nodes and neighbor2 not in nodes:\n",
    "                #SWITCH LINKS\n",
    "                G.remove_edge(nodes[0],neighbor1)\n",
    "                G.add_edge(nodes[1],neighbor1)\n",
    "                G.remove_edge(nodes[1],neighbor2)\n",
    "                G.add_edge(nodes[0],neighbor2)\n",
    "\n",
    "    return G,nx.degree_pearson_correlation_coefficient(G)"
   ]
  },
  {
   "cell_type": "code",
   "execution_count": 56,
   "metadata": {},
   "outputs": [],
   "source": [
    "fparam=np.arange(0.05,1,0.05)\n",
    "assortativity=[]\n",
    "for f in fparam:\n",
    "    network,value=randomize(socialnetwork,f)\n",
    "    assortativity.append(value)"
   ]
  },
  {
   "cell_type": "code",
   "execution_count": 57,
   "metadata": {},
   "outputs": [
    {
     "data": {
      "image/png": "[encoded data removed]",
      "text/plain": [
       "<Figure size 432x288 with 1 Axes>"
      ]
     },
     "metadata": {
      "needs_background": "light"
     },
     "output_type": "display_data"
    }
   ],
   "source": [
    "plt.scatter(fparam,assortativity)\n",
    "plt.show()"
   ]
  },
  {
   "cell_type": "code",
   "execution_count": 62,
   "metadata": {},
   "outputs": [
    {
     "ename": "NameError",
     "evalue": "name 'instance' is not defined",
     "output_type": "error",
     "traceback": [
      "\u001b[1;31m---------------------------------------------------------------------------\u001b[0m",
      "\u001b[1;31mNameError\u001b[0m                                 Traceback (most recent call last)",
      "\u001b[1;32m<ipython-input-62-c3d8ffd02b62>\u001b[0m in \u001b[0;36m<module>\u001b[1;34m()\u001b[0m\n\u001b[0;32m      7\u001b[0m     \u001b[0msocialnetwork\u001b[0m\u001b[1;33m=\u001b[0m\u001b[0mnewSocialNetwork\u001b[0m\u001b[1;33m(\u001b[0m\u001b[1;36m10\u001b[0m\u001b[1;33m,\u001b[0m\u001b[1;36m3\u001b[0m\u001b[1;33m,\u001b[0m\u001b[1;36m5\u001b[0m\u001b[1;33m,\u001b[0m\u001b[1;36m500\u001b[0m\u001b[1;33m,\u001b[0m\u001b[1;36m0.8\u001b[0m\u001b[1;33m)\u001b[0m\u001b[1;33m\u001b[0m\u001b[0m\n\u001b[0;32m      8\u001b[0m     \u001b[0msoccorrelation\u001b[0m \u001b[1;33m+=\u001b[0m \u001b[0mnx\u001b[0m\u001b[1;33m.\u001b[0m\u001b[0mdegree_pearson_correlation_coefficient\u001b[0m\u001b[1;33m(\u001b[0m\u001b[0msocialnetwork\u001b[0m\u001b[1;33m)\u001b[0m\u001b[1;33m\u001b[0m\u001b[0m\n\u001b[1;32m----> 9\u001b[1;33m \u001b[0mrandcorrelation\u001b[0m \u001b[1;33m/=\u001b[0m \u001b[0minstance\u001b[0m\u001b[1;33m\u001b[0m\u001b[0m\n\u001b[0m\u001b[0;32m     10\u001b[0m \u001b[0msoccorrelation\u001b[0m \u001b[1;33m/=\u001b[0m \u001b[0minstances\u001b[0m\u001b[1;33m\u001b[0m\u001b[0m\n\u001b[0;32m     11\u001b[0m \u001b[0mprint\u001b[0m\u001b[1;33m(\u001b[0m\u001b[1;34m\"Average correlation coefficient for random graph:\"\u001b[0m\u001b[1;33m,\u001b[0m \u001b[0mrandcorrelation\u001b[0m\u001b[1;33m)\u001b[0m\u001b[1;33m\u001b[0m\u001b[0m\n",
      "\u001b[1;31mNameError\u001b[0m: name 'instance' is not defined"
     ]
    }
   ],
   "source": [
    "instances = 500\n",
    "randcorrelation=0\n",
    "soccorrelation=0\n",
    "for x in range(instances):\n",
    "    randomgraph=nx.erdos_renyi_graph(500,0.02)\n",
    "    randcorrelation += nx.degree_pearson_correlation_coefficient(randomgraph)\n",
    "    socialnetwork=newSocialNetwork(10,3,5,500,0.8)\n",
    "    soccorrelation += nx.degree_pearson_correlation_coefficient(socialnetwork)"
   ]
  },
  {
   "cell_type": "code",
   "execution_count": 63,
   "metadata": {},
   "outputs": [
    {
     "name": "stdout",
     "output_type": "stream",
     "text": [
      "Average correlation coefficient for random graph: -0.0053463249030792056\n",
      "Average correlation coefficient for social network: 0.40458547237357445\n"
     ]
    }
   ],
   "source": [
    "randcorrelation /= instances\n",
    "soccorrelation /= instances\n",
    "print(\"Average correlation coefficient for random graph:\", randcorrelation)\n",
    "print(\"Average correlation coefficient for social network:\", soccorrelation)"
   ]
  }
 ],
 "metadata": {
  "kernelspec": {
   "display_name": "Python 3",
   "language": "python",
   "name": "python3"
  }
 },
 "nbformat": 4,
 "nbformat_minor": 2
}
