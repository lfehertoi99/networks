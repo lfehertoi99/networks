{
 "cells": [
  {
   "cell_type": "code",
   "execution_count": 15,
   "metadata": {},
   "outputs": [
    {
     "data": {
      "text/plain": [
       "[[2, 2], [1, 3]]"
      ]
     },
     "execution_count": 15,
     "metadata": {},
     "output_type": "execute_result"
    }
   ],
   "source": [
    "import numpy as np\n",
    "import pandas as pd\n",
    "import matplotlib.pyplot as plt\n",
    "\n",
    "payoffMatrix = [[2,2],[1,3]]  \n",
    "\n",
    "#game : compare strategies, update payoffs accordingly\n",
    "#strategy update : update strategy based on results (changes in payoff over last x steps)\n",
    "#first : static network\n",
    "\n",
    "class Edge:\n",
    "    def __init__(self, adjacency):\n",
    "        \n",
    "\n",
    "class Node:\n",
    "    #variables: payoff, strategy distribution\n",
    "    def __init__(self):\n",
    "        #self.strategy = strategy\n",
    "        #self.payoff = payoff\n",
    "        pass\n",
    "    def update:\n",
    "        #\n",
    "        \n",
    "class Game:\n",
    "    def __init__(self, playerOne, playerTwo):\n",
    "        self.playerOne = playerOne\n",
    "        self.playerTwo = playerTwo\n",
    "        #use game function to trigger calling of play functions of partaking nodes(?)\n",
    "          \n",
    "    def payoff(self):\n",
    "        return payoffMatrix\n",
    "    \n",
    "    def play(self):\n",
    "        playerOneStrategy = #want a probability weighted strategy\n",
    "        playerTwoStrategy = #-\"-\n",
    "        return #return utilities of both nodes after game\n",
    "    \n",
    "game = Game(Node(), Node())\n",
    "    \n",
    "game.payoff()\n",
    "    "
   ]
  }
 ],
 "metadata": {
  "kernelspec": {
   "display_name": "Python 3",
   "language": "python",
   "name": "python3"
  },
  "language_info": {
   "codemirror_mode": {
    "name": "ipython",
    "version": 3
   },
   "file_extension": ".py",
   "mimetype": "text/x-python",
   "name": "python",
   "nbconvert_exporter": "python",
   "pygments_lexer": "ipython3",
   "version": "3.7.0"
  }
 },
 "nbformat": 4,
 "nbformat_minor": 2
}
