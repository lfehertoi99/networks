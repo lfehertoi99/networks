{
 "cells": [
  {
   "cell_type": "code",
   "execution_count": 56,
   "metadata": {},
   "outputs": [],
   "source": [
    "import networkx as nx\n",
    "import numpy as np\n",
    "import matplotlib.pyplot as plt\n",
    "%matplotlib inline\n",
    "from matplotlib.pyplot import figure\n",
    "\n",
    "#create network: network structure based on pAA and pA\n",
    "def createGraph(pA,pAA,N,e):\n",
    "    G=nx.Graph()\n",
    "    G.add_nodes_from(range(0,N))\n",
    "    attr=dict()\n",
    "\n",
    "    #create N nodes; of which N*pA are type A, and N*pB are type B.\n",
    "    for node in G.nodes():\n",
    "            nodeDict=dict() #dictionary of various attributes\n",
    "            x=np.random.uniform()\n",
    "            if x<pA :\n",
    "                nodeDict[\"coop\"]=0\n",
    "            else:\n",
    "                nodeDict[\"coop\"]=1\n",
    "            attr[node]=nodeDict \n",
    "    nx.set_node_attributes(G, attr)\n",
    "    list(G.nodes(data=True))\n",
    "\n",
    "    #linking algorithm: know that there are e edges. pAA*e times: pick an AA pair (no loops allowed), pAB=pBA times:....()\n",
    "    for i in range(e):\n",
    "        x=np.random.uniform()\n",
    "        if x<(pAA):\n",
    "            nodes=np.random.choice(nodelistA,2,False)\n",
    "            j=0\n",
    "            while (nodes[0],nodes[1]) in G.edges() and j<(N*pA)/2:\n",
    "                nodes=np.random.choice(nodelistA,2,False)\n",
    "                j+=1\n",
    "            G.add_edge(nodes[0],nodes[1])\n",
    "        if x>pAA and x<(2*pA-pAA):\n",
    "            node1=np.random.choice(nodelistA,1)\n",
    "            node2=np.random.choice(nodelistB,1)\n",
    "            j=0\n",
    "            max=np.minimum(pA,1-pA)\n",
    "            while (node1[0],node2[0]) in G.edges() and j<(N*max):\n",
    "                nodes=[np.random.choice(nodelistA,1),np.random.choice(nodelistB,1)]\n",
    "                j+=1\n",
    "            G.add_edge(node1[0],node2[0])\n",
    "        else:\n",
    "            nodes=np.random.choice(nodelistB,2,False)\n",
    "            j=0\n",
    "            while (nodes[0],nodes[1]) in G.edges() and j<(N*(1-pA))/2:\n",
    "                nodes=np.random.choice(nodelistB,2,False)\n",
    "                j+=1\n",
    "            G.add_edge(nodes[0],nodes[1])"
   ]
  }
 ],
 "metadata": {
  "kernelspec": {
   "display_name": "Python 3",
   "language": "python",
   "name": "python3"
  },
  "language_info": {
   "codemirror_mode": {
    "name": "ipython",
    "version": 3
   },
   "file_extension": ".py",
   "mimetype": "text/x-python",
   "name": "python",
   "nbconvert_exporter": "python",
   "pygments_lexer": "ipython3",
   "version": "3.7.0"
  }
 },
 "nbformat": 4,
 "nbformat_minor": 2
}
