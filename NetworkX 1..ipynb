{
 "cells": [
  {
   "cell_type": "code",
   "execution_count": 1,
   "metadata": {},
   "outputs": [
    {
     "name": "stdout",
     "output_type": "stream",
     "text": [
      "Hello world\n"
     ]
    }
   ],
   "source": [
    "print(\"Hello world\")"
   ]
  },
  {
   "cell_type": "code",
   "execution_count": 2,
   "metadata": {},
   "outputs": [],
   "source": [
    "def getSpeed(GCarray):\n",
    "    speedarray=np.array(2,GCarray.shape[1])\n",
    "    for i in range(speedarray.shape[1]):\n",
    "        speedarray[1][i]=GCarray[1][i+1]-GCarray[1][i]\n",
    "    return speedarray\n",
    "\n",
    "def getAccelaration(GCarray):\n",
    "    accarray=np.array(2,GCarray.shape[1])\n",
    "    for i in range(accarray.shape[1]):\n",
    "        x2=GCarray[1][i+2]-GCarray[1][i+1]\n",
    "        x1=GCarray[1][i+1]-GCarray[1][i]\n",
    "        accarray[1][i]=x1-x2\n",
    "    return accarray"
   ]
  }
 ],
 "metadata": {
  "kernelspec": {
   "display_name": "Python 3",
   "language": "python",
   "name": "python3"
  },
  "language_info": {
   "codemirror_mode": {
    "name": "ipython",
    "version": 3
   },
   "file_extension": ".py",
   "mimetype": "text/x-python",
   "name": "python",
   "nbconvert_exporter": "python",
   "pygments_lexer": "ipython3",
   "version": "3.7.0"
  }
 },
 "nbformat": 4,
 "nbformat_minor": 2
}
